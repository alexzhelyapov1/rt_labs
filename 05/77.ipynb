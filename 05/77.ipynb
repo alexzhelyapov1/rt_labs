{
 "cells": [
  {
   "cell_type": "markdown",
   "metadata": {},
   "source": [
    "### 1 Каскад"
   ]
  },
  {
   "cell_type": "code",
   "execution_count": 1,
   "metadata": {},
   "outputs": [],
   "source": [
    "import numpy as np\n",
    "\n",
    "def Parallel(r1, r2):\n",
    "    return r1 * r2 / (r1 + r2)\n",
    "\n",
    "Up = 10\n",
    "Ri = 7500\n",
    "Rk1 = 15000\n",
    "Rk2 = 1000\n",
    "Rb = 330000\n",
    "Re = 330\n",
    "h21 = 100\n",
    "Ut = 0.025\n",
    "\n",
    "\n",
    "I2 = 0.005\n",
    "Ie = (h21 + 1) * I2 * Re / Rb\n",
    "re = Ut / Ie\n",
    "k = Rk1 / re\n",
    "h11 = (h21 + 1) * re\n",
    "h11_Rb = Parallel(h11, Rb)\n",
    "alpha = h11_Rb / (h11_Rb + Ri)\n",
    "Ri_h11 = Parallel(Ri, h11)\n",
    "betta = Ri_h11 / (Ri_h11 + Rb)\n",
    "K_1 = alpha * np.abs(k) / (1 + betta * np.abs(k))\n",
    "print(\"K_1 =\", K_1)"
   ]
  },
  {
   "cell_type": "code",
   "execution_count": 13,
   "metadata": {},
   "outputs": [
    {
     "name": "stdout",
     "output_type": "stream",
     "text": [
      "18463.72364689991\n",
      "K_1 = 35.2952269223347\n",
      "F0 = 1959061.924191225\n",
      "delta F = 26120.825655883\n"
     ]
    }
   ],
   "source": [
    "import numpy as np\n",
    "\n",
    "\n",
    "Ut = 0.025\n",
    "Re = 510\n",
    "L = 20 * 10**(-6)\n",
    "C = 330 * 10**(-12)\n",
    "Q = 75\n",
    "w = 1 / (2 * np.pi * np.sqrt(L * C))\n",
    "# Rk = complex(0, L / C * (1 / (w * C) - w * L))\n",
    "Rk = np.sqrt(L / C) * Q\n",
    "Ie = 0.00190514\n",
    "betta = Re / Rk\n",
    "\n",
    "print(Rk)\n",
    "\n",
    "re = Ut / Ie\n",
    "K = Rk / re\n",
    "K_new = K / (1 + np.abs(K * betta))\n",
    "print(\"K_1 =\", K_new)\n",
    "\n",
    "\n",
    "ro = np.sqrt(L / C)\n",
    "Rek = ro * Q\n",
    "Fr = 1 / (2 * np.pi * np.sqrt(L * C))\n",
    "print(\"F0 =\", Fr)\n",
    "print(\"delta F =\", Fr / Q)\n"
   ]
  }
 ],
 "metadata": {
  "kernelspec": {
   "display_name": "Python 3",
   "language": "python",
   "name": "python3"
  },
  "language_info": {
   "codemirror_mode": {
    "name": "ipython",
    "version": 3
   },
   "file_extension": ".py",
   "mimetype": "text/x-python",
   "name": "python",
   "nbconvert_exporter": "python",
   "pygments_lexer": "ipython3",
   "version": "3.11.0"
  }
 },
 "nbformat": 4,
 "nbformat_minor": 2
}
