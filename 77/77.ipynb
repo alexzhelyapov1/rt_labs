{
 "cells": [
  {
   "cell_type": "code",
   "execution_count": 34,
   "metadata": {},
   "outputs": [
    {
     "data": {
      "text/plain": [
       "<Figure size 640x480 with 0 Axes>"
      ]
     },
     "metadata": {},
     "output_type": "display_data"
    }
   ],
   "source": [
    "import pandas as pd\n",
    "import matplotlib.pyplot as plt\n",
    "import numpy as np\n",
    "\n",
    "df = pd.DataFrame()\n",
    "df['f'] = [5000, 1000, 10000, 20000, 11000, 12000, 13000, 14000, 16000, 18000, 2000, 3000, 4000, 5000, 6000, 7000, 8000, 9000, 900, 800, 700, 600, 500, 400, 300, 200, 100, 90, 80, 70, 60, 20, 10, 8, 4, 2, 3, 1]\n",
    "df['2U'] = [2.42, 2.65, 1.98, 1.28, 1.89, 1.80, 1.725, 1.65, 1.51, 1.39, 2.62, 2.57, 2.5, 2.42, 2.34, 2.24, 2.16, 2.06, 2.66, 2.66, 2.66, 2.66, 2.66, 2.66, 2.66, 2.66, 2.66, 2.66, 2.66, 2.66, 2.66, 2.66, 2.66, 2.66, 2.43, 1.94, 2.26, 1.22]\n",
    "df['U'] = df['2U'] / 2\n",
    "df = df.sort_values('f')\n",
    "\n",
    "plt.plot(df['f'], df['U'], marker = 'o', linestyle = 'dashed')\n",
    "plt.xlabel('f, hz')\n",
    "plt.ylabel('U, v')\n",
    "plt.savefig('/home/leksey2/rt_labs/f_u.png')\n",
    "plt.clf()\n",
    "\n",
    "plt.plot(df['f'], np.log(df['U']), marker = 'o', linestyle = 'dashed')\n",
    "plt.xlabel('f, hz')\n",
    "plt.ylabel('ln(U), v')\n",
    "plt.savefig('/home/leksey2/rt_labs/f_lnu.png')\n",
    "plt.clf()\n",
    "\n",
    "plt.plot(np.log(df['f']), df['U'], marker = 'o', linestyle = 'dashed')\n",
    "plt.xlabel('ln(f), hz')\n",
    "plt.ylabel('U, v')\n",
    "plt.savefig('/home/leksey2/rt_labs/lnf_u.png')\n",
    "plt.clf()\n",
    "\n",
    "plt.plot(np.log(df['f']), np.log(df['U']), marker = 'o', linestyle = 'dashed')\n",
    "plt.xlabel('ln(f), hz')\n",
    "plt.ylabel('ln(U), v')\n",
    "plt.savefig('/home/leksey2/rt_labs/lnf_lnu.png')\n",
    "plt.clf()\n",
    "# plt.plot(df['f'], [2.66 / 2 ** 0.5 for i in range(len(df['f']))])\n",
    "# plt.show()"
   ]
  }
 ],
 "metadata": {
  "kernelspec": {
   "display_name": "Python 3",
   "language": "python",
   "name": "python3"
  },
  "language_info": {
   "codemirror_mode": {
    "name": "ipython",
    "version": 3
   },
   "file_extension": ".py",
   "mimetype": "text/x-python",
   "name": "python",
   "nbconvert_exporter": "python",
   "pygments_lexer": "ipython3",
   "version": "3.8.10"
  }
 },
 "nbformat": 4,
 "nbformat_minor": 2
}
