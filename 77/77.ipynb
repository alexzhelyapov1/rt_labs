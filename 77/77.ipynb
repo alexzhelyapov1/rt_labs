{
 "cells": [
  {
   "cell_type": "code",
   "execution_count": 5,
   "metadata": {},
   "outputs": [
    {
     "data": {
      "text/plain": [
       "<Figure size 640x480 with 0 Axes>"
      ]
     },
     "metadata": {},
     "output_type": "display_data"
    }
   ],
   "source": [
    "import pandas as pd\n",
    "import matplotlib.pyplot as plt\n",
    "import numpy as np\n",
    "\n",
    "df = pd.DataFrame()\n",
    "df['f'] = [5000, 1000, 10000, 20000, 11000, 12000, 13000, 14000, 16000, 18000, 2000, 3000, 4000, 5000, 6000, 7000, 8000, 9000, 900, 800, 700, 600, 500, 400, 300, 200, 100, 90, 80, 70, 60, 20, 10, 8, 4, 2, 3, 1]\n",
    "df['2U'] = [2.42, 2.65, 1.98, 1.28, 1.89, 1.80, 1.725, 1.65, 1.51, 1.39, 2.62, 2.57, 2.5, 2.42, 2.34, 2.24, 2.16, 2.06, 2.66, 2.66, 2.66, 2.66, 2.66, 2.66, 2.66, 2.66, 2.66, 2.66, 2.66, 2.66, 2.66, 2.66, 2.66, 2.66, 2.43, 1.94, 2.26, 1.22]\n",
    "df['U'] = df['2U'] / 2 / 0.01\n",
    "level = (2.66 / 2 / 0.01) / 2 ** 0.5\n",
    "\n",
    "df = df.sort_values('f')\n",
    "\n",
    "plt.plot(df['f'], df['U'], marker = 'o', linestyle = 'dashed')\n",
    "plt.plot(df['f'], [(level) for i in range(len(df['f']))], color='orange')\n",
    "plt.xlabel('f, hz')\n",
    "plt.ylabel('K')\n",
    "plt.savefig('/home/leksey2/rt_labs/77/f_u.png')\n",
    "plt.clf()\n",
    "\n",
    "plt.plot(df['f'], np.log(df['U']), marker = 'o', linestyle = 'dashed')\n",
    "plt.plot(df['f'], [np.log(level) for i in range(len(df['f']))])\n",
    "plt.xlabel('f, hz')\n",
    "plt.ylabel('ln(K)')\n",
    "plt.savefig('/home/leksey2/rt_labs/77/f_lnu.png')\n",
    "plt.clf()\n",
    "\n",
    "plt.plot(np.log(df['f']), df['U'], marker = 'o', linestyle = 'dashed')\n",
    "plt.plot(np.log(df['f']), [(level) for i in range(len(df['f']))])\n",
    "plt.xlabel('ln(f), hz')\n",
    "plt.ylabel('K')\n",
    "plt.savefig('/home/leksey2/rt_labs/77/lnf_u.png')\n",
    "plt.clf()\n",
    "\n",
    "plt.plot(np.log(df['f']), np.log(df['U']), marker = 'o', linestyle = 'dashed')\n",
    "plt.plot(np.log(df['f']), [np.log(level) for i in range(len(df['f']))])\n",
    "plt.xlabel('ln(f), hz')\n",
    "plt.ylabel('ln(K)')\n",
    "plt.savefig('/home/leksey2/rt_labs/77/lnf_lnu.png')\n",
    "plt.clf()"
   ]
  },
  {
   "cell_type": "markdown",
   "metadata": {},
   "source": [
    "### 1 Каскад"
   ]
  },
  {
   "cell_type": "code",
   "execution_count": 8,
   "metadata": {},
   "outputs": [
    {
     "name": "stdout",
     "output_type": "stream",
     "text": [
      "K_1 = 32.20289855072464\n"
     ]
    }
   ],
   "source": [
    "import numpy as np\n",
    "\n",
    "def Parallel(r1, r2):\n",
    "    return r1 * r2 / (r1 + r2)\n",
    "\n",
    "Up = 10\n",
    "Ri = 7500\n",
    "Rk1 = 15000\n",
    "Rk2 = 1000\n",
    "Rb = 330000\n",
    "Re = 330\n",
    "h21 = 100\n",
    "Ut = 0.025\n",
    "\n",
    "\n",
    "I2 = 0.005\n",
    "Ie = (h21 + 1) * I2 * Re / Rb\n",
    "re = Ut / Ie\n",
    "k = Rk1 / re\n",
    "h11 = (h21 + 1) * re\n",
    "h11_Rb = Parallel(h11, Rb)\n",
    "alpha = h11_Rb / (h11_Rb + Ri)\n",
    "Ri_h11 = Parallel(Ri, h11)\n",
    "betta = Ri_h11 / (Ri_h11 + Rb)\n",
    "K_1 = alpha * np.abs(k) / (1 + betta * np.abs(k))\n",
    "print(\"K_1 =\", K_1)"
   ]
  },
  {
   "cell_type": "markdown",
   "metadata": {},
   "source": [
    "### 2 Каскад"
   ]
  },
  {
   "cell_type": "code",
   "execution_count": 9,
   "metadata": {},
   "outputs": [
    {
     "name": "stdout",
     "output_type": "stream",
     "text": [
      "2.6089225150013045\n"
     ]
    }
   ],
   "source": [
    "K_2 = h21 * Rk2 / (h11 + (h21 + 1) * Re)\n",
    "print(K_2)"
   ]
  },
  {
   "cell_type": "markdown",
   "metadata": {},
   "source": [
    "### Итого"
   ]
  },
  {
   "cell_type": "code",
   "execution_count": 10,
   "metadata": {},
   "outputs": [
    {
     "name": "stdout",
     "output_type": "stream",
     "text": [
      "84.01486707728839\n"
     ]
    }
   ],
   "source": [
    "print(K_1 * K_2)"
   ]
  }
 ],
 "metadata": {
  "kernelspec": {
   "display_name": "Python 3",
   "language": "python",
   "name": "python3"
  },
  "language_info": {
   "codemirror_mode": {
    "name": "ipython",
    "version": 3
   },
   "file_extension": ".py",
   "mimetype": "text/x-python",
   "name": "python",
   "nbconvert_exporter": "python",
   "pygments_lexer": "ipython3",
   "version": "3.8.10"
  }
 },
 "nbformat": 4,
 "nbformat_minor": 2
}
